{
 "cells": [
  {
   "cell_type": "code",
   "execution_count": 107,
   "metadata": {},
   "outputs": [],
   "source": [
    "def modelCircle(b, c, d):\n",
    "  temp = c[0]**2 + c[1]**2\n",
    "  bc = (b[0]**2 + b[1]**2 - temp) / 2\n",
    "  cd = (temp - d[0]**2 - d[1]**2) / 2\n",
    "  det = (b[0] - c[0]) * (c[1] - d[1]) - (c[0] - d[0]) * (b[1] - c[1])\n",
    "\n",
    "  if abs(det) < 1.0e-10:\n",
    "    return None\n",
    "\n",
    "  # Center of circle\n",
    "  cx = (bc*(c[1] - d[1]) - cd*(b[1] - c[1])) / det\n",
    "  cy = ((b[0] - c[0]) * cd - (c[0] - d[0]) * bc) / det\n",
    "\n",
    "  radius = ((cx - b[0])**2 + (cy - b[1])**2)**.5\n",
    "\n",
    "  return cx,cy,radius\n",
    "\n",
    "def shrtDis(p,x,y,r):\n",
    "    import numpy as np\n",
    "    re= np.array(abs(((p[:,0]-x)**2+(p[:,1]-y)**2)**0.5-r))\n",
    "    return re"
   ]
  },
  {
   "cell_type": "code",
   "execution_count": 96,
   "metadata": {},
   "outputs": [
    {
     "ename": "TypeError",
     "evalue": "list indices must be integers or slices, not tuple",
     "output_type": "error",
     "traceback": [
      "\u001b[1;31m---------------------------------------------------------------------------\u001b[0m",
      "\u001b[1;31mTypeError\u001b[0m                                 Traceback (most recent call last)",
      "\u001b[1;32mc:\\Users\\Kithdara Hansamal\\Documents\\Assignments\\Assignment_2.ipynb Cell 2'\u001b[0m in \u001b[0;36m<module>\u001b[1;34m\u001b[0m\n\u001b[0;32m      <a href='vscode-notebook-cell:/c%3A/Users/Kithdara%20Hansamal/Documents/Assignments/Assignment_2.ipynb#ch0000001?line=0'>1</a>\u001b[0m x,y,r\u001b[39m=\u001b[39mmodelCircle([\u001b[39m-\u001b[39m\u001b[39m3\u001b[39m,\u001b[39m-\u001b[39m\u001b[39m2\u001b[39m],[\u001b[39m2\u001b[39m,\u001b[39m3\u001b[39m],[\u001b[39m1\u001b[39m,\u001b[39m0\u001b[39m])\n\u001b[1;32m----> <a href='vscode-notebook-cell:/c%3A/Users/Kithdara%20Hansamal/Documents/Assignments/Assignment_2.ipynb#ch0000001?line=1'>2</a>\u001b[0m shrtDis([\u001b[39m-\u001b[39;49m\u001b[39m2\u001b[39;49m,\u001b[39m0\u001b[39;49m],x,y,r)\n",
      "\u001b[1;32mc:\\Users\\Kithdara Hansamal\\Documents\\Assignments\\Assignment_2.ipynb Cell 1'\u001b[0m in \u001b[0;36mshrtDis\u001b[1;34m(p, x, y, r)\u001b[0m\n\u001b[0;32m     <a href='vscode-notebook-cell:/c%3A/Users/Kithdara%20Hansamal/Documents/Assignments/Assignment_2.ipynb#ch0000000?line=17'>18</a>\u001b[0m \u001b[39mdef\u001b[39;00m \u001b[39mshrtDis\u001b[39m(p,x,y,r):\n\u001b[1;32m---> <a href='vscode-notebook-cell:/c%3A/Users/Kithdara%20Hansamal/Documents/Assignments/Assignment_2.ipynb#ch0000000?line=18'>19</a>\u001b[0m     \u001b[39mreturn\u001b[39;00m \u001b[39mabs\u001b[39m(((p[:,\u001b[39m0\u001b[39;49m]\u001b[39m-\u001b[39mx)\u001b[39m*\u001b[39m\u001b[39m*\u001b[39m\u001b[39m2\u001b[39m\u001b[39m+\u001b[39m(p[:,\u001b[39m1\u001b[39m]\u001b[39m-\u001b[39my)\u001b[39m*\u001b[39m\u001b[39m*\u001b[39m\u001b[39m2\u001b[39m)\u001b[39m*\u001b[39m\u001b[39m*\u001b[39m\u001b[39m0.5\u001b[39m\u001b[39m-\u001b[39mr)\n",
      "\u001b[1;31mTypeError\u001b[0m: list indices must be integers or slices, not tuple"
     ]
    }
   ],
   "source": [
    "x,y,r=modelCircle([-3,-2],[2,3],[1,0])\n",
    "shrtDis([-2,0],x,y,r)"
   ]
  },
  {
   "cell_type": "code",
   "execution_count": 145,
   "metadata": {},
   "outputs": [
    {
     "name": "stdout",
     "output_type": "stream",
     "text": [
      "(array([ 0,  3,  7, 10, 14, 16, 17, 18, 19, 21, 23, 24, 32, 33, 35, 36, 41,\n",
      "       43, 45, 48, 62, 63, 64, 65, 93, 94, 95], dtype=int64),)\n"
     ]
    },
    {
     "name": "stderr",
     "output_type": "stream",
     "text": [
      "C:\\Users\\Kithdara Hansamal\\AppData\\Local\\Temp\\ipykernel_3468\\1263879422.py:20: DeprecationWarning: This function is deprecated. Please call randint(0, 100 + 1) instead\n",
      "  L=np.random.random_integers(0,100,size=3)\n"
     ]
    },
    {
     "data": {
      "image/png": "[encoded data removed]",
      "text/plain": [
       "<Figure size 432x288 with 1 Axes>"
      ]
     },
     "metadata": {
      "needs_background": "light"
     },
     "output_type": "display_data"
    }
   ],
   "source": [
    "import numpy as np\n",
    "from scipy . optimize import minimize\n",
    "from scipy import linalg\n",
    "import matplotlib.pyplot as plt\n",
    "# np . random. seed ( 0 )\n",
    "N = 100\n",
    "half_n = N//2\n",
    "r = 10\n",
    "s = r /16\n",
    "t = np . random. uniform(0 , 2*np . pi , half_n )\n",
    "n = s*np . random. randn ( half_n )\n",
    "x , y = ( r + n)*np . cos ( t ) , ( r + n)*np . sin ( t )\n",
    "X_circ = np . hstack ( ( x . reshape ( half_n , 1 ) , y . reshape ( half_n , 1 ) ) )\n",
    "m, b =-1, 2\n",
    "x = np.linspace(-12, 12 , half_n )\n",
    "y = m*x + b + s*np . random. randn ( half_n )\n",
    "X_line = np . hstack ( ( x . reshape ( half_n , 1 ) , y . reshape ( half_n , 1 ) ) )\n",
    "X = np . vstack ( ( X_circ , X_line ) )\n",
    "fig,ax=plt.subplots()\n",
    "L=np.random.random_integers(0,100,size=3)\n",
    "X[L[0]]\n",
    "x,y,r=modelCircle(X[L[0]],X[L[1]],X[L[2]])\n",
    "c=plt.Circle((x,y),r,fill=False)\n",
    "ax.set_aspect( 1 )\n",
    "ax.add_artist( c )\n",
    "ax.scatter(X[:,0],X[:,1])\n",
    "PO=shrtDis(X,x,y,r)\n",
    "result = np.where(PO<1)\n",
    "print(result)"
   ]
  },
  {
   "cell_type": "code",
   "execution_count": 112,
   "metadata": {},
   "outputs": [
    {
     "name": "stderr",
     "output_type": "stream",
     "text": [
      "C:\\Users\\Kithdara Hansamal\\AppData\\Local\\Temp\\ipykernel_3468\\2229533263.py:3: DeprecationWarning: This function is deprecated. Please call randint(0, 101 + 1) instead\n",
      "  L=np.random.random_integers(0,101,size=3)\n"
     ]
    },
    {
     "data": {
      "text/plain": [
       "<matplotlib.patches.Circle at 0x2af73a83460>"
      ]
     },
     "execution_count": 112,
     "metadata": {},
     "output_type": "execute_result"
    }
   ],
   "source": [
    "import numpy as np\n",
    "\n",
    "L=np.random.random_integers(0,101,size=3)\n",
    "X[L[0]]\n",
    "x,y,r=modelCircle(X[L[0]],X[L[1]],X[L[2]])\n",
    "c=plt.Circle((x,y),r)\n",
    "ax.add_patch(c)\n",
    "\n",
    "\n"
   ]
  },
  {
   "cell_type": "code",
   "execution_count": 61,
   "metadata": {},
   "outputs": [
    {
     "data": {
      "image/png": "[encoded data removed]",
      "text/plain": [
       "<Figure size 432x288 with 1 Axes>"
      ]
     },
     "metadata": {
      "needs_background": "light"
     },
     "output_type": "display_data"
    }
   ],
   "source": [
    "import matplotlib.pyplot as plt\n",
    "\n",
    "circle1 = plt.Circle((0, 0), 0.2, color='r')\n",
    "circle2 = plt.Circle((0.5, 0.5), 0.2, color='blue')\n",
    "circle3 = plt.Circle((1, 1), 0.2, color='g', clip_on=False)\n",
    "\n",
    "fig, ax = plt.subplots() # note we must use plt.subplots, not plt.subplot\n",
    "# (or if you have an existing figure)\n",
    "# fig = plt.gcf()\n",
    "# ax = fig.gca()\n",
    "\n",
    "ax.add_patch(circle1)\n",
    "ax.add_patch(circle2)\n",
    "ax.add_patch(circle3)\n",
    "\n",
    "fig.savefig('plotcircles.png')"
   ]
  }
 ],
 "metadata": {
  "interpreter": {
   "hash": "71a9e55ea9a4eb0ec0516cb2ecfe4cae1c555e7d5ef5085da43b83b5c34d74bd"
  },
  "kernelspec": {
   "display_name": "Python 3.10.2 64-bit (system)",
   "language": "python",
   "name": "python3"
  },
  "language_info": {
   "codemirror_mode": {
    "name": "ipython",
    "version": 3
   },
   "file_extension": ".py",
   "mimetype": "text/x-python",
   "name": "python",
   "nbconvert_exporter": "python",
   "pygments_lexer": "ipython3",
   "version": "3.10.2"
  },
  "orig_nbformat": 4
 },
 "nbformat": 4,
 "nbformat_minor": 2
}
