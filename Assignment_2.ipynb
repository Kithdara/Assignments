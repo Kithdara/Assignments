{
 "cells": [
  {
   "cell_type": "code",
   "execution_count": 163,
   "metadata": {},
   "outputs": [],
   "source": [
    "def modelCircle(b, c, d):\n",
    "  temp = c[0]**2 + c[1]**2\n",
    "  bc = (b[0]**2 + b[1]**2 - temp) / 2\n",
    "  cd = (temp - d[0]**2 - d[1]**2) / 2\n",
    "  det = (b[0] - c[0]) * (c[1] - d[1]) - (c[0] - d[0]) * (b[1] - c[1])\n",
    "\n",
    "  if abs(det) < 1.0e-10:\n",
    "    return None\n",
    "\n",
    "  # Center of circle\n",
    "  cx = (bc*(c[1] - d[1]) - cd*(b[1] - c[1])) / det\n",
    "  cy = ((b[0] - c[0]) * cd - (c[0] - d[0]) * bc) / det\n",
    "\n",
    "  radius = ((cx - b[0])**2 + (cy - b[1])**2)**.5\n",
    "\n",
    "  return cx,cy,radius\n",
    "\n",
    "def shrtDis(p,x,y,r):\n",
    "    import numpy as np\n",
    "    re= np.array(abs(((p[:,0]-x)**2+(p[:,1]-y)**2)**0.5-r))\n",
    "    return re"
   ]
  },
  {
   "cell_type": "code",
   "execution_count": 164,
   "metadata": {},
   "outputs": [
    {
     "ename": "TypeError",
     "evalue": "list indices must be integers or slices, not tuple",
     "output_type": "error",
     "traceback": [
      "\u001b[1;31m---------------------------------------------------------------------------\u001b[0m",
      "\u001b[1;31mTypeError\u001b[0m                                 Traceback (most recent call last)",
      "\u001b[1;32mc:\\Users\\Kithdara Hansamal\\Documents\\Assignments\\Assignment_2.ipynb Cell 2'\u001b[0m in \u001b[0;36m<module>\u001b[1;34m\u001b[0m\n\u001b[0;32m      <a href='vscode-notebook-cell:/c%3A/Users/Kithdara%20Hansamal/Documents/Assignments/Assignment_2.ipynb#ch0000001?line=0'>1</a>\u001b[0m x,y,r\u001b[39m=\u001b[39mmodelCircle([\u001b[39m-\u001b[39m\u001b[39m3\u001b[39m,\u001b[39m-\u001b[39m\u001b[39m2\u001b[39m],[\u001b[39m2\u001b[39m,\u001b[39m3\u001b[39m],[\u001b[39m1\u001b[39m,\u001b[39m0\u001b[39m])\n\u001b[1;32m----> <a href='vscode-notebook-cell:/c%3A/Users/Kithdara%20Hansamal/Documents/Assignments/Assignment_2.ipynb#ch0000001?line=1'>2</a>\u001b[0m shrtDis([\u001b[39m-\u001b[39;49m\u001b[39m2\u001b[39;49m,\u001b[39m0\u001b[39;49m],x,y,r)\n",
      "\u001b[1;32mc:\\Users\\Kithdara Hansamal\\Documents\\Assignments\\Assignment_2.ipynb Cell 1'\u001b[0m in \u001b[0;36mshrtDis\u001b[1;34m(p, x, y, r)\u001b[0m\n\u001b[0;32m     <a href='vscode-notebook-cell:/c%3A/Users/Kithdara%20Hansamal/Documents/Assignments/Assignment_2.ipynb#ch0000000?line=17'>18</a>\u001b[0m \u001b[39mdef\u001b[39;00m \u001b[39mshrtDis\u001b[39m(p,x,y,r):\n\u001b[0;32m     <a href='vscode-notebook-cell:/c%3A/Users/Kithdara%20Hansamal/Documents/Assignments/Assignment_2.ipynb#ch0000000?line=18'>19</a>\u001b[0m     \u001b[39mimport\u001b[39;00m \u001b[39mnumpy\u001b[39;00m \u001b[39mas\u001b[39;00m \u001b[39mnp\u001b[39;00m\n\u001b[1;32m---> <a href='vscode-notebook-cell:/c%3A/Users/Kithdara%20Hansamal/Documents/Assignments/Assignment_2.ipynb#ch0000000?line=19'>20</a>\u001b[0m     re\u001b[39m=\u001b[39m np\u001b[39m.\u001b[39marray(\u001b[39mabs\u001b[39m(((p[:,\u001b[39m0\u001b[39;49m]\u001b[39m-\u001b[39mx)\u001b[39m*\u001b[39m\u001b[39m*\u001b[39m\u001b[39m2\u001b[39m\u001b[39m+\u001b[39m(p[:,\u001b[39m1\u001b[39m]\u001b[39m-\u001b[39my)\u001b[39m*\u001b[39m\u001b[39m*\u001b[39m\u001b[39m2\u001b[39m)\u001b[39m*\u001b[39m\u001b[39m*\u001b[39m\u001b[39m0.5\u001b[39m\u001b[39m-\u001b[39mr))\n\u001b[0;32m     <a href='vscode-notebook-cell:/c%3A/Users/Kithdara%20Hansamal/Documents/Assignments/Assignment_2.ipynb#ch0000000?line=20'>21</a>\u001b[0m     \u001b[39mreturn\u001b[39;00m re\n",
      "\u001b[1;31mTypeError\u001b[0m: list indices must be integers or slices, not tuple"
     ]
    }
   ],
   "source": [
    "x,y,r=modelCircle([-3,-2],[2,3],[1,0])\n",
    "shrtDis([-2,0],x,y,r)"
   ]
  },
  {
   "cell_type": "code",
   "execution_count": 355,
   "metadata": {},
   "outputs": [],
   "source": [
    "import numpy as np\n",
    "from scipy . optimize import minimize\n",
    "from scipy import linalg\n",
    "import matplotlib.pyplot as plt\n",
    "# np . random. seed ( 0 )\n",
    "N = 100\n",
    "half_n = N//2\n",
    "r = 10\n",
    "s = r /16\n",
    "t = np . random. uniform(0 , 2*np . pi , half_n )\n",
    "n = s*np . random. randn ( half_n )\n",
    "x , y = ( r + n)*np . cos ( t ) , ( r + n)*np . sin ( t )\n",
    "X_circ = np . hstack ( ( x . reshape ( half_n , 1 ) , y . reshape ( half_n , 1 ) ) )\n",
    "m, b =-1, 2\n",
    "x = np.linspace(-12, 12 , half_n )\n",
    "y = m*x + b + s*np . random. randn ( half_n )\n",
    "X_line = np . hstack ( ( x . reshape ( half_n , 1 ) , y . reshape ( half_n , 1 ) ) )\n",
    "X = np . vstack ( ( X_circ , X_line ) )\n",
    "\n",
    "\n",
    "\n",
    "\n",
    "\n",
    "\n",
    "\n",
    "\n",
    "#result = np.where(PO<1)\n"
   ]
  },
  {
   "cell_type": "code",
   "execution_count": 360,
   "metadata": {},
   "outputs": [
    {
     "name": "stdout",
     "output_type": "stream",
     "text": [
      "0.49608627754676315 45\n",
      "0.4696007161636422 47\n",
      "0 0\n"
     ]
    },
    {
     "data": {
      "image/png": "[encoded data removed]",
      "text/plain": [
       "<Figure size 504x504 with 1 Axes>"
      ]
     },
     "metadata": {
      "needs_background": "light"
     },
     "output_type": "display_data"
    }
   ],
   "source": [
    "best=np.Infinity\n",
    "v,m,R,ranL=0,0,0,[]\n",
    "\n",
    "for i in range(40):\n",
    "    #L=np.random.random_integers(0,99,size=3)\n",
    "    L=np.random.choice(100, size=3, replace=False)\n",
    "    \n",
    "  \n",
    "    x,y,r=modelCircle(X[L[0]],X[L[1]],X[L[2]])\n",
    "    PO=shrtDis(X,x,y,r)\n",
    "    if r>15:\n",
    "        continue\n",
    "    inliares=X[PO<1]\n",
    "    if inliares.size>80:\n",
    "        \n",
    "        me=shrtDis(inliares,x,y,r)\n",
    "        mean = sum(me/me.size)\n",
    "        if mean < best:\n",
    "            print(mean,me.size)\n",
    "            best=mean\n",
    "            ranL=L\n",
    "            \n",
    "\n",
    "x,y,r=modelCircle(X[ranL[0]],X[ranL[1]],X[ranL[2]])\n",
    "PO=shrtDis(X,x,y,r)\n",
    "bestInlier=X[PO<3]\n",
    "fig,ax=plt.subplots(figsize=(7,7))\n",
    "\n",
    "c=plt.Circle((x,y),r,fill=False)\n",
    "c.set_color(\"r\")\n",
    "ax.set_aspect( 1 )\n",
    "ax.add_artist( c )\n",
    "ax.scatter(X[:,0],X[:,1])\n",
    "ax.scatter(bestInlier[:,0],bestInlier[:,1])\n",
    "Y=np.vstack((X[ranL[0]],X[ranL[1]],X[ranL[2]]))\n",
    "ax.scatter(Y[:,0],Y[:,1])\n",
    "print(v,m)\n",
    "\n"
   ]
  },
  {
   "cell_type": "code",
   "execution_count": 312,
   "metadata": {},
   "outputs": [
    {
     "name": "stdout",
     "output_type": "stream",
     "text": [
      "14.139035615884929\n"
     ]
    }
   ],
   "source": [
    "print(R)"
   ]
  },
  {
   "cell_type": "code",
   "execution_count": 334,
   "metadata": {},
   "outputs": [
    {
     "data": {
      "text/plain": [
       "array([[ 2.58397336, 10.16207325],\n",
       "       [-3.88802805,  9.79229891],\n",
       "       [ 9.9242008 , -0.24491535]])"
      ]
     },
     "execution_count": 334,
     "metadata": {},
     "output_type": "execute_result"
    }
   ],
   "source": [
    "Y=np.vstack((X[ranL[0]],X[ranL[1]],X[ranL[2]]))\n",
    "Y\n"
   ]
  }
 ],
 "metadata": {
  "interpreter": {
   "hash": "71a9e55ea9a4eb0ec0516cb2ecfe4cae1c555e7d5ef5085da43b83b5c34d74bd"
  },
  "kernelspec": {
   "display_name": "Python 3.10.2 64-bit (system)",
   "language": "python",
   "name": "python3"
  },
  "language_info": {
   "codemirror_mode": {
    "name": "ipython",
    "version": 3
   },
   "file_extension": ".py",
   "mimetype": "text/x-python",
   "name": "python",
   "nbconvert_exporter": "python",
   "pygments_lexer": "ipython3",
   "version": "3.10.2"
  },
  "orig_nbformat": 4
 },
 "nbformat": 4,
 "nbformat_minor": 2
}
